{
 "cells": [
  {
   "cell_type": "code",
   "execution_count": 26,
   "id": "5e09b709-448e-4f52-a530-a6fde1676dc1",
   "metadata": {},
   "outputs": [
    {
     "name": "stdout",
     "output_type": "stream",
     "text": [
      "Shared\n",
      "<class 'str'>\n",
      "Uncapped\n",
      "4\n",
      "4\n",
      "4096\n",
      "4\n",
      "1.0\n"
     ]
    },
    {
     "ename": "KeyError",
     "evalue": "'The parameter \"ent2\" was not found or the value was not parsed from the CLI output: \"System configuration: type=Shared mode=Uncapped smt=4 lcpu=4 mem=4096MB psize=4 ent=1.00\"'",
     "output_type": "error",
     "traceback": [
      "\u001b[1;31m---------------------------------------------------------------------------\u001b[0m",
      "\u001b[1;31mKeyError\u001b[0m                                  Traceback (most recent call last)",
      "Cell \u001b[1;32mIn[26], line 42\u001b[0m\n\u001b[0;32m     40\u001b[0m \u001b[38;5;28mprint\u001b[39m(get_value_by_key_from_cli_output(\u001b[38;5;124m'\u001b[39m\u001b[38;5;124mpsize\u001b[39m\u001b[38;5;124m'\u001b[39m,\u001b[38;5;124m'\u001b[39m\u001b[38;5;124mi\u001b[39m\u001b[38;5;124m'\u001b[39m, s))\n\u001b[0;32m     41\u001b[0m \u001b[38;5;28mprint\u001b[39m(get_value_by_key_from_cli_output(\u001b[38;5;124m'\u001b[39m\u001b[38;5;124ment\u001b[39m\u001b[38;5;124m'\u001b[39m,\u001b[38;5;124m'\u001b[39m\u001b[38;5;124mf\u001b[39m\u001b[38;5;124m'\u001b[39m, s))\n\u001b[1;32m---> 42\u001b[0m \u001b[38;5;28mprint\u001b[39m(\u001b[43mget_value_by_key_from_cli_output\u001b[49m\u001b[43m(\u001b[49m\u001b[38;5;124;43m'\u001b[39;49m\u001b[38;5;124;43ment2\u001b[39;49m\u001b[38;5;124;43m'\u001b[39;49m\u001b[43m,\u001b[49m\u001b[38;5;124;43m'\u001b[39;49m\u001b[38;5;124;43mf\u001b[39;49m\u001b[38;5;124;43m'\u001b[39;49m\u001b[43m,\u001b[49m\u001b[43m \u001b[49m\u001b[43ms\u001b[49m\u001b[43m)\u001b[49m)\n",
      "Cell \u001b[1;32mIn[26], line 28\u001b[0m, in \u001b[0;36mget_value_by_key_from_cli_output\u001b[1;34m(key, value_format, cli_output)\u001b[0m\n\u001b[0;32m     26\u001b[0m     \u001b[38;5;28;01mreturn\u001b[39;00m result\n\u001b[0;32m     27\u001b[0m \u001b[38;5;28;01melse\u001b[39;00m:\n\u001b[1;32m---> 28\u001b[0m     \u001b[38;5;28;01mraise\u001b[39;00m \u001b[38;5;167;01mKeyError\u001b[39;00m(\u001b[38;5;124mf\u001b[39m\u001b[38;5;124m'\u001b[39m\u001b[38;5;124mThe parameter \u001b[39m\u001b[38;5;130;01m\\\"\u001b[39;00m\u001b[38;5;132;01m{\u001b[39;00mkey\u001b[38;5;132;01m}\u001b[39;00m\u001b[38;5;130;01m\\\"\u001b[39;00m\u001b[38;5;124m was not found or the value was not parsed \u001b[39m\u001b[38;5;124m'\u001b[39m\n\u001b[0;32m     29\u001b[0m                    \u001b[38;5;124mf\u001b[39m\u001b[38;5;124m'\u001b[39m\u001b[38;5;124mfrom the CLI output: \u001b[39m\u001b[38;5;130;01m\\\"\u001b[39;00m\u001b[38;5;132;01m{\u001b[39;00mcli_output\u001b[38;5;132;01m}\u001b[39;00m\u001b[38;5;130;01m\\\"\u001b[39;00m\u001b[38;5;124m'\u001b[39m)\n",
      "\u001b[1;31mKeyError\u001b[0m: 'The parameter \"ent2\" was not found or the value was not parsed from the CLI output: \"System configuration: type=Shared mode=Uncapped smt=4 lcpu=4 mem=4096MB psize=4 ent=1.00\"'"
     ]
    }
   ],
   "source": [
    "import re\n",
    "from typing import Optional, List, Union\n",
    "\n",
    "def get_value_by_key_from_cli_output(key: str, value_format: str, cli_output: str) -> Optional[Union[str, int, float]]:\n",
    "    \"\"\"\n",
    "    Parsing the value of the key(parameter) from the cli_output using regular expressions.\n",
    "    The format of the value must be specified: 's', 'i', 'f'.\n",
    "    Supported cli_output for parsing is a string that contains: \"key=value, key = value, key:value, key : value\"\n",
    "    @param key: string parameter whose value should be determined\n",
    "    @param value_format:  format of value ['s' str, 'i' int, 'f' float]\n",
    "    @param cli_output:  string with command output\n",
    "    @return: value in the specified format [str, int, float]\n",
    "    \"\"\"\n",
    "\n",
    "    reg_exp_dict = {\n",
    "        's': (re.compile(r'%s\\s*\\t*[=\\:]\\s*\\t*([a-zA-Z]*)' % key), str),\n",
    "        'i': (re.compile(r'%s\\s*\\t*[=\\:]\\s*\\t*(\\d+)' % key), int),\n",
    "        'f': (re.compile(r'%s\\s*\\t*[=\\:]\\s*\\t*(\\d+\\.\\d+)' % key), float),\n",
    "    }\n",
    "\n",
    "    reg_exp = reg_exp_dict.get(value_format)[0]\n",
    "    format_function = reg_exp_dict.get(value_format)[1]\n",
    "    match_obj = reg_exp.search(cli_output)\n",
    "    if match_obj:\n",
    "        result = format_function(match_obj.group(1))\n",
    "        return result\n",
    "    else:\n",
    "        raise KeyError(f'The parameter \\\"{key}\\\" was not found or the value was not parsed '\n",
    "                       f'from the CLI output: \\\"{cli_output}\\\"')\n",
    "\n",
    "# Examples\n",
    "s = \"System configuration: type=Shared mode=Uncapped smt=4 lcpu=4 mem=4096MB psize=4 ent=1.00\"\n",
    "print(get_value_by_key_from_cli_output('type', 's', s))\n",
    "print(type(get_value_by_key_from_cli_output('type', 's', s)))\n",
    "\n",
    "print(get_value_by_key_from_cli_output('mode', 's', s))\n",
    "print(get_value_by_key_from_cli_output('smt','i', s))\n",
    "print(get_value_by_key_from_cli_output('lcpu','i', s))\n",
    "print(get_value_by_key_from_cli_output('mem','i', s))\n",
    "print(get_value_by_key_from_cli_output('psize','i', s))\n",
    "print(get_value_by_key_from_cli_output('ent','f', s))\n",
    "print(get_value_by_key_from_cli_output('ent2','f', s))"
   ]
  },
  {
   "cell_type": "code",
   "execution_count": null,
   "id": "c29a014b-2fe7-4385-aac3-318268a57942",
   "metadata": {},
   "outputs": [],
   "source": []
  }
 ],
 "metadata": {
  "kernelspec": {
   "display_name": "Python 3 (ipykernel)",
   "language": "python",
   "name": "python3"
  },
  "language_info": {
   "codemirror_mode": {
    "name": "ipython",
    "version": 3
   },
   "file_extension": ".py",
   "mimetype": "text/x-python",
   "name": "python",
   "nbconvert_exporter": "python",
   "pygments_lexer": "ipython3",
   "version": "3.10.8"
  }
 },
 "nbformat": 4,
 "nbformat_minor": 5
}
